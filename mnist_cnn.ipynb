{
 "cells": [
  {
   "cell_type": "markdown",
   "metadata": {},
   "source": [
    "# MNIST example -- ConvNet\n",
    "####  A practical example for training convolutional neural networks \n",
    "\n",
    "- DataLoader: a data class you define according to your dataset\n",
    "- Deep convolutional neural net\n",
    "- Save checkpointd during training"
   ]
  },
  {
   "cell_type": "code",
   "execution_count": 1,
   "metadata": {
    "collapsed": true
   },
   "outputs": [],
   "source": [
    "import numpy as np\n",
    "import tensorflow as tf\n",
    "\n",
    "LOG_DIR = \"log\""
   ]
  },
  {
   "cell_type": "code",
   "execution_count": 2,
   "metadata": {
    "collapsed": true
   },
   "outputs": [],
   "source": [
    "# DataLoader class: need to customize according to your dataset\n",
    "class DataLoader(object):\n",
    "    def __init__(self):\n",
    "        # for the MNIST example, we preload the whole dataset\n",
    "        from tensorflow.contrib.learn.python.learn.datasets.mnist import read_data_sets\n",
    "        data_dir = 'MNIST_data/'\n",
    "        self.dataset = read_data_sets(data_dir, one_hot=False)\n",
    "        \n",
    "        self.num = self.dataset.train.images.shape[0]\n",
    "        self.h = 28\n",
    "        self.w = 28\n",
    "        self.c = 1\n",
    "        \n",
    "        self._idx = 0\n",
    "        \n",
    "    def next_batch(self, batch_size):\n",
    "        images_batch = np.zeros((batch_size, self.h, self.w, self.c)) \n",
    "        labels_batch = np.zeros(batch_size)\n",
    "        for i in range(batch_size):\n",
    "            # when your dataset is huge, you might need to load images on the fly\n",
    "            # you might also want data augmentation\n",
    "            images_batch[i, ...] = self.dataset.train.images[self._idx].reshape((self.h, self.w, self.c))\n",
    "            labels_batch[i, ...] = self.dataset.train.labels[self._idx]\n",
    "            \n",
    "            self._idx += 1\n",
    "            if self._idx == self.num:\n",
    "                self._idx = 0\n",
    "        \n",
    "        return images_batch, labels_batch\n",
    "    \n",
    "    def load_test(self):\n",
    "        return self.dataset.test.images.reshape((-1, self.h, self.w, self.c)), self.dataset.test.labels"
   ]
  },
  {
   "cell_type": "code",
   "execution_count": 3,
   "metadata": {
    "collapsed": false
   },
   "outputs": [],
   "source": [
    "def init_weights(shape):\n",
    "    return tf.Variable(tf.random_normal(shape, stddev=0.01))\n",
    "\n",
    "def init_bias(shape):\n",
    "    return tf.Variable(tf.zeros(shape))\n",
    "\n",
    "from visualizer import *\n",
    "\n",
    "def cnn(x, keep_dropout):\n",
    "    weights = {\n",
    "        'wc1': init_weights([5, 5, 1, 32]),  # 5x5x1 conv, 32 outputs\n",
    "        'wc2': init_weights([5, 5, 32, 64]),          # 5x5x32 conv, 64 outputs\n",
    "        'wf3': init_weights([7*7*64, 1024]),         # FC 7*7*64 inputs, 1024 outputs\n",
    "        'wo': init_weights([1024, 10]),         # FC 1024 inputs, 10 outputs \n",
    "    }\n",
    "    biases = {\n",
    "        'bc1': init_bias(32),\n",
    "        'bc2': init_bias(64),\n",
    "        'bf3': init_bias(1024),\n",
    "        'bo': init_bias(10),\n",
    "    }\n",
    "\n",
    "    # Conv + ReLU + Pool\n",
    "    conv1 = tf.nn.conv2d(x, weights['wc1'], strides=[1, 1, 1, 1], padding='SAME')\n",
    "    conv1 = tf.nn.relu(tf.nn.bias_add(conv1, biases['bc1']))\n",
    "    pool1 = tf.nn.max_pool(conv1, ksize=[1, 2, 2, 1], strides=[1, 2, 2, 1], padding='SAME')\n",
    "    tf.summary.image('kernel1', visualize_filter(weights['wc1']), max_outputs=1)\n",
    "    tf.summary.image('relu1',visualize_feature(conv1), max_outputs=1)\n",
    "    tf.summary.image('pool1',visualize_feature(pool1), max_outputs=1)\n",
    "\n",
    "    # Conv + ReLU + Pool\n",
    "    conv2 = tf.nn.conv2d(pool1, weights['wc2'], strides=[1, 1, 1, 1], padding='SAME')\n",
    "    conv2 = tf.nn.relu(tf.nn.bias_add(conv2, biases['bc2']))\n",
    "    pool2 = tf.nn.max_pool(conv2, ksize=[1, 2, 2, 1], strides=[1, 2, 2, 1], padding='SAME')\n",
    "    tf.summary.image('kernel2', visualize_filter(weights['wc2']), max_outputs=1)\n",
    "    tf.summary.image('relu2',visualize_feature(conv2), max_outputs=1)\n",
    "    tf.summary.image('pool2',visualize_feature(pool2), max_outputs=1)\n",
    "\n",
    "    # FC + ReLU + Dropout\n",
    "    fc3 = tf.reshape(pool2, [-1, weights['wf3'].get_shape().as_list()[0]])\n",
    "    fc3 = tf.add(tf.matmul(fc3, weights['wf3']), biases['bf3'])\n",
    "    fc3 = tf.nn.relu(fc3)\n",
    "    fc3 = tf.nn.dropout(fc3, keep_dropout)\n",
    "\n",
    "    # Output FC\n",
    "    out = tf.add(tf.matmul(fc3, weights['wo']), biases['bo'])\n",
    "    \n",
    "    return out"
   ]
  },
  {
   "cell_type": "code",
   "execution_count": 4,
   "metadata": {
    "collapsed": true
   },
   "outputs": [],
   "source": [
    "# Parameters\n",
    "learning_rate = 0.001\n",
    "training_iters = 500\n",
    "batch_size = 100\n",
    "step_display = 10\n",
    "step_save = 500\n",
    "path_save = 'convnet'\n",
    "\n",
    "# Network Parameters\n",
    "h = 28 # MNIST data input (img shape: 28*28)\n",
    "w = 28\n",
    "c = 1\n",
    "dropout = 0.5 # Dropout, probability to keep units"
   ]
  },
  {
   "cell_type": "code",
   "execution_count": 5,
   "metadata": {
    "collapsed": false
   },
   "outputs": [
    {
     "name": "stdout",
     "output_type": "stream",
     "text": [
      "Extracting MNIST_data/train-images-idx3-ubyte.gz\n",
      "Extracting MNIST_data/train-labels-idx1-ubyte.gz\n",
      "Extracting MNIST_data/t10k-images-idx3-ubyte.gz\n",
      "Extracting MNIST_data/t10k-labels-idx1-ubyte.gz\n"
     ]
    }
   ],
   "source": [
    "# Construct dataloader\n",
    "loader = DataLoader()\n",
    "\n",
    "# tf Graph input\n",
    "x = tf.placeholder(tf.float32, [None, h, w, c])\n",
    "y = tf.placeholder(tf.int64, None)\n",
    "keep_dropout = tf.placeholder(tf.float32)\n",
    "\n",
    "# Construct model\n",
    "logits = cnn(x, keep_dropout)\n",
    "\n",
    "# Define loss and optimizer\n",
    "loss = tf.reduce_mean(tf.nn.sparse_softmax_cross_entropy_with_logits(logits=logits, labels=y))\n",
    "train_optimizer = tf.train.AdamOptimizer(learning_rate=learning_rate).minimize(loss)\n",
    "\n",
    "# Evaluate model\n",
    "correct_pred = tf.equal(tf.argmax(logits, 1), y)\n",
    "accuracy = tf.reduce_mean(tf.cast(correct_pred, tf.float32))\n",
    "\n",
    "# define initialization\n",
    "init = tf.global_variables_initializer()\n",
    "\n",
    "# define saver\n",
    "saver = tf.train.Saver()"
   ]
  },
  {
   "cell_type": "code",
   "execution_count": 6,
   "metadata": {
    "collapsed": false
   },
   "outputs": [
    {
     "name": "stdout",
     "output_type": "stream",
     "text": [
      "Iter 10, Minibatch Loss= 1.888419, Training Accuracy= 0.5100\n",
      "Iter 20, Minibatch Loss= 0.740792, Training Accuracy= 0.6900\n",
      "Iter 30, Minibatch Loss= 0.831055, Training Accuracy= 0.7100\n",
      "Iter 40, Minibatch Loss= 0.473120, Training Accuracy= 0.8500\n",
      "Iter 50, Minibatch Loss= 0.322485, Training Accuracy= 0.9000\n",
      "Iter 60, Minibatch Loss= 0.384875, Training Accuracy= 0.9000\n",
      "Iter 70, Minibatch Loss= 0.262664, Training Accuracy= 0.9400\n",
      "Iter 80, Minibatch Loss= 0.361622, Training Accuracy= 0.8900\n",
      "Iter 90, Minibatch Loss= 0.414854, Training Accuracy= 0.8800\n",
      "Iter 100, Minibatch Loss= 0.228699, Training Accuracy= 0.9100\n",
      "Iter 110, Minibatch Loss= 0.311317, Training Accuracy= 0.9100\n",
      "Iter 120, Minibatch Loss= 0.169471, Training Accuracy= 0.9400\n",
      "Iter 130, Minibatch Loss= 0.240933, Training Accuracy= 0.9200\n",
      "Iter 140, Minibatch Loss= 0.073637, Training Accuracy= 0.9800\n",
      "Iter 150, Minibatch Loss= 0.119175, Training Accuracy= 0.9400\n",
      "Iter 160, Minibatch Loss= 0.197434, Training Accuracy= 0.9400\n",
      "Iter 170, Minibatch Loss= 0.101439, Training Accuracy= 0.9400\n",
      "Iter 180, Minibatch Loss= 0.029239, Training Accuracy= 1.0000\n",
      "Iter 190, Minibatch Loss= 0.185270, Training Accuracy= 0.9700\n",
      "Iter 200, Minibatch Loss= 0.116740, Training Accuracy= 0.9500\n",
      "Iter 210, Minibatch Loss= 0.109794, Training Accuracy= 0.9600\n",
      "Iter 220, Minibatch Loss= 0.026746, Training Accuracy= 1.0000\n",
      "Iter 230, Minibatch Loss= 0.088020, Training Accuracy= 0.9700\n",
      "Iter 240, Minibatch Loss= 0.089882, Training Accuracy= 0.9800\n",
      "Iter 250, Minibatch Loss= 0.123130, Training Accuracy= 0.9600\n",
      "Iter 260, Minibatch Loss= 0.079054, Training Accuracy= 0.9500\n",
      "Iter 270, Minibatch Loss= 0.126981, Training Accuracy= 0.9700\n",
      "Iter 280, Minibatch Loss= 0.035079, Training Accuracy= 0.9900\n",
      "Iter 290, Minibatch Loss= 0.036781, Training Accuracy= 1.0000\n",
      "Iter 300, Minibatch Loss= 0.098413, Training Accuracy= 0.9600\n",
      "Iter 310, Minibatch Loss= 0.127034, Training Accuracy= 0.9400\n",
      "Iter 320, Minibatch Loss= 0.040547, Training Accuracy= 0.9800\n",
      "Iter 330, Minibatch Loss= 0.053405, Training Accuracy= 1.0000\n",
      "Iter 340, Minibatch Loss= 0.075248, Training Accuracy= 0.9700\n",
      "Iter 350, Minibatch Loss= 0.044812, Training Accuracy= 0.9900\n",
      "Iter 360, Minibatch Loss= 0.088299, Training Accuracy= 0.9800\n",
      "Iter 370, Minibatch Loss= 0.103477, Training Accuracy= 0.9700\n",
      "Iter 380, Minibatch Loss= 0.129608, Training Accuracy= 0.9800\n",
      "Iter 390, Minibatch Loss= 0.082228, Training Accuracy= 0.9800\n",
      "Iter 400, Minibatch Loss= 0.078177, Training Accuracy= 0.9600\n",
      "Iter 410, Minibatch Loss= 0.070870, Training Accuracy= 0.9800\n",
      "Iter 420, Minibatch Loss= 0.042904, Training Accuracy= 0.9900\n",
      "Iter 430, Minibatch Loss= 0.109088, Training Accuracy= 0.9800\n",
      "Iter 440, Minibatch Loss= 0.180458, Training Accuracy= 0.9400\n",
      "Iter 450, Minibatch Loss= 0.088517, Training Accuracy= 0.9500\n",
      "Iter 460, Minibatch Loss= 0.020438, Training Accuracy= 1.0000\n",
      "Iter 470, Minibatch Loss= 0.124454, Training Accuracy= 0.9400\n",
      "Iter 480, Minibatch Loss= 0.237008, Training Accuracy= 0.9400\n",
      "Iter 490, Minibatch Loss= 0.054930, Training Accuracy= 0.9800\n",
      "Model saved at Iter 500 !\n",
      "Optimization Finished!\n",
      "Testing Accuracy: 0.984\n"
     ]
    }
   ],
   "source": [
    "# Launch the graph\n",
    "with tf.Session() as sess:\n",
    "    # Initialization\n",
    "    sess.run(init)\n",
    "    merged = tf.summary.merge_all()\n",
    "    summary_writer = tf.summary.FileWriter(LOG_DIR, sess.graph)\n",
    "\n",
    "    step = 1\n",
    "    while step < training_iters:\n",
    "        # Load a batch of data\n",
    "        images_batch, labels_batch = loader.next_batch(batch_size)\n",
    "        \n",
    "        # Run optimization op (backprop)\n",
    "        summary, _ = sess.run([merged, train_optimizer], feed_dict={x: images_batch, y: labels_batch, keep_dropout: dropout})\n",
    "        \n",
    "        if step % step_display == 0:\n",
    "            # Calculate batch loss and accuracy while training\n",
    "            l, acc = sess.run([loss, accuracy], feed_dict={x: images_batch, y: labels_batch, keep_dropout: 1.}) \n",
    "            print \"Iter \" + str(step) + \", Minibatch Loss= \" + \\\n",
    "            \"{:.6f}\".format(l) + \", Training Accuracy= \" + \\\n",
    "            \"{:.4f}\".format(acc)\n",
    "        \n",
    "        step += 1\n",
    "        \n",
    "        # Save model\n",
    "        if step % step_save == 0:\n",
    "            saver.save(sess, path_save, global_step=step)\n",
    "            print \"Model saved at Iter %d !\" %(step)\n",
    "        summary_writer.add_summary(summary, step)\n",
    "        \n",
    "    print \"Optimization Finished!\"\n",
    "\n",
    "    # Calculate accuracy for 500 mnist test images\n",
    "    images_test, labels_test = loader.load_test()\n",
    "    print \"Testing Accuracy:\", \\\n",
    "    sess.run(accuracy, feed_dict={x: images_test[:500],\n",
    "                                  y: labels_test[:500],\n",
    "                                  keep_dropout: 1.})\n",
    "    summary_writer.close()"
   ]
  },
  {
   "cell_type": "code",
   "execution_count": null,
   "metadata": {
    "collapsed": true
   },
   "outputs": [],
   "source": []
  }
 ],
 "metadata": {
  "anaconda-cloud": {},
  "kernelspec": {
   "display_name": "tensorflow",
   "language": "python",
   "name": "tensorflow"
  },
  "language_info": {
   "codemirror_mode": {
    "name": "ipython",
    "version": 2
   },
   "file_extension": ".py",
   "mimetype": "text/x-python",
   "name": "python",
   "nbconvert_exporter": "python",
   "pygments_lexer": "ipython2",
   "version": "2.7.10"
  }
 },
 "nbformat": 4,
 "nbformat_minor": 1
}
